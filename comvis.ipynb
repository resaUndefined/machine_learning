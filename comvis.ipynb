{
  "nbformat": 4,
  "nbformat_minor": 0,
  "metadata": {
    "colab": {
      "name": "comvis.ipynb",
      "provenance": []
    },
    "kernelspec": {
      "name": "python3",
      "display_name": "Python 3"
    },
    "language_info": {
      "name": "python"
    },
    "accelerator": "GPU"
  },
  "cells": [
    {
      "cell_type": "code",
      "metadata": {
        "id": "vfIZQ47IkpNl"
      },
      "source": [
        "import sys\n",
        "import numpy as np\n",
        "import skimage.color\n",
        "import skimage.io\n",
        "from matplotlib import pyplot as plt"
      ],
      "execution_count": 1,
      "outputs": []
    },
    {
      "cell_type": "markdown",
      "metadata": {
        "id": "NvagOUqGpRcb"
      },
      "source": [
        "GRAYSCALE"
      ]
    },
    {
      "cell_type": "code",
      "metadata": {
        "id": "SkewelPPlAkU"
      },
      "source": [
        "image = skimage.io.imread(fname='img.ext', as_gray=True)"
      ],
      "execution_count": 46,
      "outputs": []
    },
    {
      "cell_type": "code",
      "metadata": {
        "id": "x_zQx2KYoZDM"
      },
      "source": [
        "# display the image\n",
        "skimage.io.imshow(image)"
      ],
      "execution_count": null,
      "outputs": []
    },
    {
      "cell_type": "code",
      "metadata": {
        "id": "kUEen5zjomcg"
      },
      "source": [
        "# create the histogram\n",
        "histogram, bin_edges = np.histogram(image, bins=256, range=(0, 1))"
      ],
      "execution_count": 48,
      "outputs": []
    },
    {
      "cell_type": "code",
      "metadata": {
        "id": "nQeTzet7oqLO"
      },
      "source": [
        "# configure and draw the histogram figure\n",
        "plt.figure()\n",
        "plt.title(\"Grayscale Histogram\")\n",
        "plt.xlabel(\"grayscale value\")\n",
        "plt.ylabel(\"pixels\")\n",
        "plt.xlim([0.0, 1.0])  # <- named arguments do not work here\n",
        "\n",
        "plt.plot(bin_edges[0:-1], histogram)  # <- or here\n",
        "plt.show()"
      ],
      "execution_count": null,
      "outputs": []
    },
    {
      "cell_type": "markdown",
      "metadata": {
        "id": "RshEvzhKpLLw"
      },
      "source": [
        "COLOR"
      ]
    },
    {
      "cell_type": "code",
      "metadata": {
        "id": "2kYh9kMepO6t"
      },
      "source": [
        "image = skimage.io.imread(fname='img.ext')"
      ],
      "execution_count": 50,
      "outputs": []
    },
    {
      "cell_type": "code",
      "metadata": {
        "id": "aXZDwtySppnJ"
      },
      "source": [
        "# display the image\n",
        "skimage.io.imshow(image)"
      ],
      "execution_count": null,
      "outputs": []
    },
    {
      "cell_type": "code",
      "metadata": {
        "id": "Q5O-xd89ph3N"
      },
      "source": [
        "# tuple to select colors of each channel line\n",
        "colors = (\"red\", \"green\", \"blue\")\n",
        "channel_ids = (0, 1, 2)\n",
        "\n",
        "# create the histogram plot, with three lines, one for\n",
        "# each color\n",
        "plt.xlim([0, 256])\n",
        "for channel_id, c in zip(channel_ids, colors):\n",
        "    histogram, bin_edges = np.histogram(\n",
        "        image[:, :, channel_id], bins=256, range=(0, 256)\n",
        "    )\n",
        "    plt.plot(bin_edges[0:-1], histogram, color=c)\n",
        "\n",
        "plt.xlabel(\"Color value\")\n",
        "plt.ylabel(\"Pixels\")\n",
        "\n",
        "plt.show()"
      ],
      "execution_count": null,
      "outputs": []
    },
    {
      "cell_type": "markdown",
      "metadata": {
        "id": "YAzyh0z_ss3a"
      },
      "source": [
        "====================================================================================================="
      ]
    },
    {
      "cell_type": "markdown",
      "metadata": {
        "id": "J08Z9WKgsqFt"
      },
      "source": [
        "FILTERING\n"
      ]
    },
    {
      "cell_type": "markdown",
      "metadata": {
        "id": "K9hrAp3itikN"
      },
      "source": [
        "MEAN FILTER"
      ]
    },
    {
      "cell_type": "code",
      "metadata": {
        "id": "OZzeRkT6skDV"
      },
      "source": [
        "import numpy as np\n",
        "import cv2\n",
        "from matplotlib import pyplot as plt\n",
        "from PIL import Image, ImageFilter\n",
        "%matplotlib inline\n",
        "image = cv2.imread('img.ext') # reads the image\n",
        "image = cv2.cvtColor(image, cv2.COLOR_BGR2HSV) # convert to HSV\n",
        "figure_size = 9 # the dimension of the x and y axis of the kernal.\n",
        "new_image = cv2.blur(image,(figure_size, figure_size))\n",
        "plt.figure(figsize=(11,6))\n",
        "plt.subplot(121), plt.imshow(cv2.cvtColor(image, cv2.COLOR_HSV2RGB)),plt.title('Original')\n",
        "plt.xticks([]), plt.yticks([])\n",
        "plt.subplot(122), plt.imshow(cv2.cvtColor(new_image, cv2.COLOR_HSV2RGB)),plt.title('Mean filter')\n",
        "plt.xticks([]), plt.yticks([])\n",
        "plt.show()"
      ],
      "execution_count": null,
      "outputs": []
    },
    {
      "cell_type": "code",
      "metadata": {
        "id": "YKkihJSitpIy"
      },
      "source": [
        "# The image will first be converted to grayscale\n",
        "image2 = cv2.cvtColor(image, cv2.COLOR_HSV2BGR)\n",
        "image2 = cv2.cvtColor(image2, cv2.COLOR_BGR2GRAY)\n",
        "figure_size = 9\n",
        "new_image = cv2.blur(image2,(figure_size, figure_size))\n",
        "plt.figure(figsize=(11,6))\n",
        "plt.subplot(121), plt.imshow(image2, cmap='gray'),plt.title('Original')\n",
        "plt.xticks([]), plt.yticks([])\n",
        "plt.subplot(122), plt.imshow(new_image, cmap='gray'),plt.title('Mean filter')\n",
        "plt.xticks([]), plt.yticks([])\n",
        "plt.show()"
      ],
      "execution_count": null,
      "outputs": []
    },
    {
      "cell_type": "markdown",
      "metadata": {
        "id": "C4Nu_yNAttaq"
      },
      "source": [
        "GAUSSIAN FILTER"
      ]
    },
    {
      "cell_type": "code",
      "metadata": {
        "id": "e3azniNXtvh7"
      },
      "source": [
        "new_image = cv2.GaussianBlur(image, (figure_size, figure_size),0)\n",
        "plt.figure(figsize=(11,6))\n",
        "plt.subplot(121), plt.imshow(cv2.cvtColor(image, cv2.COLOR_HSV2RGB)),plt.title('Original')\n",
        "plt.xticks([]), plt.yticks([])\n",
        "plt.subplot(122), plt.imshow(cv2.cvtColor(new_image, cv2.COLOR_HSV2RGB)),plt.title('Gaussian Filter')\n",
        "plt.xticks([]), plt.yticks([])\n",
        "plt.show()"
      ],
      "execution_count": null,
      "outputs": []
    },
    {
      "cell_type": "code",
      "metadata": {
        "id": "tcc6JVent1Uh"
      },
      "source": [
        "new_image_gauss = cv2.GaussianBlur(image2, (figure_size, figure_size),0)\n",
        "plt.figure(figsize=(11,6))\n",
        "plt.subplot(121), plt.imshow(image2, cmap='gray'),plt.title('Original')\n",
        "plt.xticks([]), plt.yticks([])\n",
        "plt.subplot(122), plt.imshow(new_image_gauss, cmap='gray'),plt.title('Gaussian Filter')\n",
        "plt.xticks([]), plt.yticks([])\n",
        "plt.show()\n"
      ],
      "execution_count": null,
      "outputs": []
    },
    {
      "cell_type": "markdown",
      "metadata": {
        "id": "vLSNHbeGt3a1"
      },
      "source": [
        "MEDIAN FILTER"
      ]
    },
    {
      "cell_type": "code",
      "metadata": {
        "id": "hXgTuEmtt6mF"
      },
      "source": [
        "new_image = cv2.medianBlur(image, figure_size)\n",
        "plt.figure(figsize=(11,6))\n",
        "plt.subplot(121), plt.imshow(cv2.cvtColor(image, cv2.COLOR_HSV2RGB)),plt.title('Original')\n",
        "plt.xticks([]), plt.yticks([])\n",
        "plt.subplot(122), plt.imshow(cv2.cvtColor(new_image, cv2.COLOR_HSV2RGB)),plt.title('Median Filter')\n",
        "plt.xticks([]), plt.yticks([])\n",
        "plt.show()"
      ],
      "execution_count": null,
      "outputs": []
    },
    {
      "cell_type": "code",
      "metadata": {
        "id": "wrcG5mPEt9z9"
      },
      "source": [
        "new_image = cv2.medianBlur(image2, figure_size)\n",
        "plt.figure(figsize=(11,6))\n",
        "plt.subplot(121), plt.imshow(image2, cmap='gray'),plt.title('Original')\n",
        "plt.xticks([]), plt.yticks([])\n",
        "plt.subplot(122), plt.imshow(new_image, cmap='gray'),plt.title('Median Filter')\n",
        "plt.xticks([]), plt.yticks([])\n",
        "plt.show()"
      ],
      "execution_count": null,
      "outputs": []
    }
  ]
}